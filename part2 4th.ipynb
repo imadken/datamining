{
 "cells": [
  {
   "cell_type": "code",
   "execution_count": 32,
   "metadata": {},
   "outputs": [],
   "source": [
    "import numpy as np\n",
    "import pandas as pd\n",
    "from sklearn.model_selection import train_test_split\n",
    "from sklearn.preprocessing import MinMaxScaler,StandardScaler\n",
    "from sklearn.metrics import accuracy_score,classification_report,recall_score\n",
    "\n",
    "\n",
    "import seaborn as sns\n",
    "import matplotlib.pyplot as plt\n",
    "from models.Knn_custom import KNN \n",
    "from models.Kmeans import K_Means\n",
    "\n",
    "from models.Dbscan import DBSCAN_custom\n",
    "from models.dt import DecisionTree\n",
    "from models.RF import RandomForest \n",
    "from models.Metrics import *\n",
    "\n",
    "from time import time"
   ]
  },
  {
   "cell_type": "markdown",
   "metadata": {},
   "source": [
    "Load Data"
   ]
  },
  {
   "cell_type": "code",
   "execution_count": 33,
   "metadata": {},
   "outputs": [],
   "source": [
    "data1 = pd.read_csv(\"data/Dataset1.csv\")"
   ]
  },
  {
   "cell_type": "code",
   "execution_count": 34,
   "metadata": {},
   "outputs": [
    {
     "name": "stdout",
     "output_type": "stream",
     "text": [
      "<class 'pandas.core.frame.DataFrame'>\n",
      "RangeIndex: 885 entries, 0 to 884\n",
      "Data columns (total 14 columns):\n",
      " #   Column     Non-Null Count  Dtype  \n",
      "---  ------     --------------  -----  \n",
      " 0   N          885 non-null    int64  \n",
      " 1   P          885 non-null    object \n",
      " 2   K          885 non-null    int64  \n",
      " 3   pH         885 non-null    float64\n",
      " 4   EC         885 non-null    float64\n",
      " 5   OC         884 non-null    float64\n",
      " 6   S          885 non-null    float64\n",
      " 7   Zn         885 non-null    float64\n",
      " 8   Fe         885 non-null    float64\n",
      " 9   Cu         884 non-null    float64\n",
      " 10  Mn         885 non-null    float64\n",
      " 11  B          885 non-null    float64\n",
      " 12  OM         885 non-null    float64\n",
      " 13  Fertility  885 non-null    int64  \n",
      "dtypes: float64(10), int64(3), object(1)\n",
      "memory usage: 96.9+ KB\n"
     ]
    }
   ],
   "source": [
    "data1.info()"
   ]
  },
  {
   "cell_type": "code",
   "execution_count": 35,
   "metadata": {},
   "outputs": [
    {
     "data": {
      "text/html": [
       "<div>\n",
       "<style scoped>\n",
       "    .dataframe tbody tr th:only-of-type {\n",
       "        vertical-align: middle;\n",
       "    }\n",
       "\n",
       "    .dataframe tbody tr th {\n",
       "        vertical-align: top;\n",
       "    }\n",
       "\n",
       "    .dataframe thead th {\n",
       "        text-align: right;\n",
       "    }\n",
       "</style>\n",
       "<table border=\"1\" class=\"dataframe\">\n",
       "  <thead>\n",
       "    <tr style=\"text-align: right;\">\n",
       "      <th></th>\n",
       "      <th>N</th>\n",
       "      <th>P</th>\n",
       "      <th>K</th>\n",
       "      <th>pH</th>\n",
       "      <th>EC</th>\n",
       "      <th>OC</th>\n",
       "      <th>S</th>\n",
       "      <th>Zn</th>\n",
       "      <th>Fe</th>\n",
       "      <th>Cu</th>\n",
       "      <th>Mn</th>\n",
       "      <th>B</th>\n",
       "      <th>OM</th>\n",
       "      <th>Fertility</th>\n",
       "    </tr>\n",
       "  </thead>\n",
       "  <tbody>\n",
       "    <tr>\n",
       "      <th>0</th>\n",
       "      <td>138</td>\n",
       "      <td>8.6</td>\n",
       "      <td>560</td>\n",
       "      <td>7.46</td>\n",
       "      <td>0.62</td>\n",
       "      <td>0.70</td>\n",
       "      <td>5.9</td>\n",
       "      <td>0.24</td>\n",
       "      <td>0.31</td>\n",
       "      <td>0.77</td>\n",
       "      <td>8.71</td>\n",
       "      <td>0.11</td>\n",
       "      <td>1.2040</td>\n",
       "      <td>0</td>\n",
       "    </tr>\n",
       "    <tr>\n",
       "      <th>1</th>\n",
       "      <td>213</td>\n",
       "      <td>7.5</td>\n",
       "      <td>338</td>\n",
       "      <td>7.62</td>\n",
       "      <td>0.75</td>\n",
       "      <td>1.06</td>\n",
       "      <td>25.4</td>\n",
       "      <td>0.30</td>\n",
       "      <td>0.86</td>\n",
       "      <td>1.54</td>\n",
       "      <td>2.89</td>\n",
       "      <td>2.29</td>\n",
       "      <td>1.8232</td>\n",
       "      <td>0</td>\n",
       "    </tr>\n",
       "    <tr>\n",
       "      <th>2</th>\n",
       "      <td>163</td>\n",
       "      <td>9.6</td>\n",
       "      <td>718</td>\n",
       "      <td>7.59</td>\n",
       "      <td>0.51</td>\n",
       "      <td>1.11</td>\n",
       "      <td>14.3</td>\n",
       "      <td>0.30</td>\n",
       "      <td>0.86</td>\n",
       "      <td>1.57</td>\n",
       "      <td>2.70</td>\n",
       "      <td>2.03</td>\n",
       "      <td>1.9092</td>\n",
       "      <td>0</td>\n",
       "    </tr>\n",
       "    <tr>\n",
       "      <th>3</th>\n",
       "      <td>157</td>\n",
       "      <td>6.8</td>\n",
       "      <td>475</td>\n",
       "      <td>7.64</td>\n",
       "      <td>0.58</td>\n",
       "      <td>0.94</td>\n",
       "      <td>26.0</td>\n",
       "      <td>0.34</td>\n",
       "      <td>0.54</td>\n",
       "      <td>1.53</td>\n",
       "      <td>2.65</td>\n",
       "      <td>1.82</td>\n",
       "      <td>1.6168</td>\n",
       "      <td>0</td>\n",
       "    </tr>\n",
       "    <tr>\n",
       "      <th>4</th>\n",
       "      <td>270</td>\n",
       "      <td>9.9</td>\n",
       "      <td>444</td>\n",
       "      <td>7.63</td>\n",
       "      <td>0.40</td>\n",
       "      <td>0.86</td>\n",
       "      <td>11.8</td>\n",
       "      <td>0.25</td>\n",
       "      <td>0.76</td>\n",
       "      <td>1.69</td>\n",
       "      <td>2.43</td>\n",
       "      <td>2.26</td>\n",
       "      <td>1.4792</td>\n",
       "      <td>1</td>\n",
       "    </tr>\n",
       "  </tbody>\n",
       "</table>\n",
       "</div>"
      ],
      "text/plain": [
       "     N    P    K    pH    EC    OC     S    Zn    Fe    Cu    Mn     B  \\\n",
       "0  138  8.6  560  7.46  0.62  0.70   5.9  0.24  0.31  0.77  8.71  0.11   \n",
       "1  213  7.5  338  7.62  0.75  1.06  25.4  0.30  0.86  1.54  2.89  2.29   \n",
       "2  163  9.6  718  7.59  0.51  1.11  14.3  0.30  0.86  1.57  2.70  2.03   \n",
       "3  157  6.8  475  7.64  0.58  0.94  26.0  0.34  0.54  1.53  2.65  1.82   \n",
       "4  270  9.9  444  7.63  0.40  0.86  11.8  0.25  0.76  1.69  2.43  2.26   \n",
       "\n",
       "       OM  Fertility  \n",
       "0  1.2040          0  \n",
       "1  1.8232          0  \n",
       "2  1.9092          0  \n",
       "3  1.6168          0  \n",
       "4  1.4792          1  "
      ]
     },
     "execution_count": 35,
     "metadata": {},
     "output_type": "execute_result"
    }
   ],
   "source": [
    "data1.head()"
   ]
  },
  {
   "cell_type": "markdown",
   "metadata": {},
   "source": [
    "### Preprocessing based on Part1"
   ]
  },
  {
   "cell_type": "code",
   "execution_count": 36,
   "metadata": {},
   "outputs": [],
   "source": [
    "def process_outliers(data,rep_med=True):\n",
    "    \n",
    "    data_copy = data.copy(deep=True)\n",
    "    \n",
    "    if not rep_med:\n",
    "        med = np.nan\n",
    "    \n",
    "    for column in data.columns:\n",
    "        if pd.api.types.is_numeric_dtype(data[column]):\n",
    "           Q1 = data_copy[column].quantile(0.25)\n",
    "           Q3 = data_copy[column].quantile(0.75)\n",
    "           \n",
    "           if rep_med:\n",
    "              med = data_copy[column].median()\n",
    "           \n",
    "           IQR = Q3 - Q1\n",
    "           \n",
    "           max_threshold = Q3 + (IQR*1.5)\n",
    "           min_threshold = Q1 - (IQR*1.5)\n",
    "           \n",
    "           # data_copy[column] = np.where(((data_copy[column]<= max_threshold)&(data_copy[column]>= min_threshold)),data_copy[column],np.nan)\n",
    "           data_copy[column] = np.where(((data_copy[column]<= max_threshold)&(data_copy[column]>= min_threshold)),data_copy[column],med)\n",
    "       \n",
    "    return data_copy    "
   ]
  },
  {
   "cell_type": "code",
   "execution_count": 37,
   "metadata": {},
   "outputs": [],
   "source": [
    "def preprocess_p2(data,drop_miss=True , outliers=True,replace_median=True,duplicates=True):\n",
    "    \n",
    "    data_copy = data.copy(deep=True)\n",
    "    \n",
    "    \n",
    "    data_copy[\"P\"]=pd.to_numeric(data_copy[\"P\"],errors=\"coerce\")\n",
    "    \n",
    "    if drop_miss :\n",
    "       data_copy.dropna(inplace=True)\n",
    "    else :\n",
    "        data_copy.fillna(data_copy.median(),inplace=True)\n",
    "    \n",
    "    if outliers:\n",
    "        data_copy = process_outliers(data_copy,rep_med=replace_median)\n",
    "        data_copy.dropna(inplace=True)\n",
    "    \n",
    "    if duplicates:\n",
    "        data_copy.drop_duplicates(inplace=True)\n",
    "        # data_copy.drop(columns=[\"OM\",\"N\"],inplace=True)\n",
    "        # data_copy.drop(columns=[\"OM\"],inplace=True)\n",
    "        \n",
    "    data_copy.reset_index(inplace=True,drop=True)    \n",
    "    \n",
    "       \n",
    "    \n",
    "    return data_copy           \n",
    "        \n",
    "        "
   ]
  },
  {
   "cell_type": "code",
   "execution_count": 38,
   "metadata": {},
   "outputs": [],
   "source": [
    "data1 = preprocess_p2(data1,drop_miss = True , outliers=False,replace_median=True,duplicates=True)"
   ]
  },
  {
   "cell_type": "code",
   "execution_count": 39,
   "metadata": {},
   "outputs": [
    {
     "name": "stdout",
     "output_type": "stream",
     "text": [
      "<class 'pandas.core.frame.DataFrame'>\n",
      "RangeIndex: 878 entries, 0 to 877\n",
      "Data columns (total 14 columns):\n",
      " #   Column     Non-Null Count  Dtype  \n",
      "---  ------     --------------  -----  \n",
      " 0   N          878 non-null    int64  \n",
      " 1   P          878 non-null    float64\n",
      " 2   K          878 non-null    int64  \n",
      " 3   pH         878 non-null    float64\n",
      " 4   EC         878 non-null    float64\n",
      " 5   OC         878 non-null    float64\n",
      " 6   S          878 non-null    float64\n",
      " 7   Zn         878 non-null    float64\n",
      " 8   Fe         878 non-null    float64\n",
      " 9   Cu         878 non-null    float64\n",
      " 10  Mn         878 non-null    float64\n",
      " 11  B          878 non-null    float64\n",
      " 12  OM         878 non-null    float64\n",
      " 13  Fertility  878 non-null    int64  \n",
      "dtypes: float64(11), int64(3)\n",
      "memory usage: 96.2 KB\n"
     ]
    }
   ],
   "source": [
    "data1.info()"
   ]
  },
  {
   "cell_type": "code",
   "execution_count": 40,
   "metadata": {},
   "outputs": [
    {
     "data": {
      "text/html": [
       "<div>\n",
       "<style scoped>\n",
       "    .dataframe tbody tr th:only-of-type {\n",
       "        vertical-align: middle;\n",
       "    }\n",
       "\n",
       "    .dataframe tbody tr th {\n",
       "        vertical-align: top;\n",
       "    }\n",
       "\n",
       "    .dataframe thead th {\n",
       "        text-align: right;\n",
       "    }\n",
       "</style>\n",
       "<table border=\"1\" class=\"dataframe\">\n",
       "  <thead>\n",
       "    <tr style=\"text-align: right;\">\n",
       "      <th></th>\n",
       "      <th>N</th>\n",
       "      <th>P</th>\n",
       "      <th>K</th>\n",
       "      <th>pH</th>\n",
       "      <th>EC</th>\n",
       "      <th>OC</th>\n",
       "      <th>S</th>\n",
       "      <th>Zn</th>\n",
       "      <th>Fe</th>\n",
       "      <th>Cu</th>\n",
       "      <th>Mn</th>\n",
       "      <th>B</th>\n",
       "      <th>OM</th>\n",
       "      <th>Fertility</th>\n",
       "    </tr>\n",
       "  </thead>\n",
       "  <tbody>\n",
       "    <tr>\n",
       "      <th>count</th>\n",
       "      <td>878.000000</td>\n",
       "      <td>878.000000</td>\n",
       "      <td>878.000000</td>\n",
       "      <td>878.000000</td>\n",
       "      <td>878.000000</td>\n",
       "      <td>878.000000</td>\n",
       "      <td>878.000000</td>\n",
       "      <td>878.000000</td>\n",
       "      <td>878.000000</td>\n",
       "      <td>878.000000</td>\n",
       "      <td>878.00000</td>\n",
       "      <td>878.000000</td>\n",
       "      <td>878.000000</td>\n",
       "      <td>878.000000</td>\n",
       "    </tr>\n",
       "    <tr>\n",
       "      <th>mean</th>\n",
       "      <td>246.842825</td>\n",
       "      <td>14.572437</td>\n",
       "      <td>501.042141</td>\n",
       "      <td>7.510706</td>\n",
       "      <td>0.544077</td>\n",
       "      <td>0.617665</td>\n",
       "      <td>7.525239</td>\n",
       "      <td>0.469419</td>\n",
       "      <td>4.145763</td>\n",
       "      <td>0.951697</td>\n",
       "      <td>8.68836</td>\n",
       "      <td>0.586139</td>\n",
       "      <td>1.062384</td>\n",
       "      <td>0.587699</td>\n",
       "    </tr>\n",
       "    <tr>\n",
       "      <th>std</th>\n",
       "      <td>77.370500</td>\n",
       "      <td>21.991113</td>\n",
       "      <td>129.100764</td>\n",
       "      <td>0.464720</td>\n",
       "      <td>0.141563</td>\n",
       "      <td>0.843975</td>\n",
       "      <td>4.405285</td>\n",
       "      <td>1.896323</td>\n",
       "      <td>3.107853</td>\n",
       "      <td>0.466295</td>\n",
       "      <td>4.29319</td>\n",
       "      <td>0.564529</td>\n",
       "      <td>1.451637</td>\n",
       "      <td>0.573798</td>\n",
       "    </tr>\n",
       "    <tr>\n",
       "      <th>min</th>\n",
       "      <td>6.000000</td>\n",
       "      <td>2.900000</td>\n",
       "      <td>11.000000</td>\n",
       "      <td>0.900000</td>\n",
       "      <td>0.100000</td>\n",
       "      <td>0.100000</td>\n",
       "      <td>0.640000</td>\n",
       "      <td>0.070000</td>\n",
       "      <td>0.210000</td>\n",
       "      <td>0.090000</td>\n",
       "      <td>0.11000</td>\n",
       "      <td>0.060000</td>\n",
       "      <td>0.172000</td>\n",
       "      <td>0.000000</td>\n",
       "    </tr>\n",
       "    <tr>\n",
       "      <th>25%</th>\n",
       "      <td>201.000000</td>\n",
       "      <td>6.800000</td>\n",
       "      <td>412.000000</td>\n",
       "      <td>7.350000</td>\n",
       "      <td>0.430000</td>\n",
       "      <td>0.380000</td>\n",
       "      <td>4.700000</td>\n",
       "      <td>0.280000</td>\n",
       "      <td>2.060000</td>\n",
       "      <td>0.630000</td>\n",
       "      <td>6.23000</td>\n",
       "      <td>0.270000</td>\n",
       "      <td>0.653600</td>\n",
       "      <td>0.000000</td>\n",
       "    </tr>\n",
       "    <tr>\n",
       "      <th>50%</th>\n",
       "      <td>257.000000</td>\n",
       "      <td>8.100000</td>\n",
       "      <td>475.000000</td>\n",
       "      <td>7.500000</td>\n",
       "      <td>0.550000</td>\n",
       "      <td>0.590000</td>\n",
       "      <td>6.640000</td>\n",
       "      <td>0.360000</td>\n",
       "      <td>3.565000</td>\n",
       "      <td>0.930000</td>\n",
       "      <td>8.36500</td>\n",
       "      <td>0.400000</td>\n",
       "      <td>1.014800</td>\n",
       "      <td>1.000000</td>\n",
       "    </tr>\n",
       "    <tr>\n",
       "      <th>75%</th>\n",
       "      <td>307.000000</td>\n",
       "      <td>10.650000</td>\n",
       "      <td>581.000000</td>\n",
       "      <td>7.630000</td>\n",
       "      <td>0.640000</td>\n",
       "      <td>0.780000</td>\n",
       "      <td>8.750000</td>\n",
       "      <td>0.470000</td>\n",
       "      <td>6.320000</td>\n",
       "      <td>1.250000</td>\n",
       "      <td>11.48000</td>\n",
       "      <td>0.610000</td>\n",
       "      <td>1.341600</td>\n",
       "      <td>1.000000</td>\n",
       "    </tr>\n",
       "    <tr>\n",
       "      <th>max</th>\n",
       "      <td>383.000000</td>\n",
       "      <td>125.000000</td>\n",
       "      <td>1560.000000</td>\n",
       "      <td>11.150000</td>\n",
       "      <td>0.950000</td>\n",
       "      <td>24.000000</td>\n",
       "      <td>31.000000</td>\n",
       "      <td>42.000000</td>\n",
       "      <td>44.000000</td>\n",
       "      <td>3.020000</td>\n",
       "      <td>31.00000</td>\n",
       "      <td>2.820000</td>\n",
       "      <td>41.280000</td>\n",
       "      <td>2.000000</td>\n",
       "    </tr>\n",
       "  </tbody>\n",
       "</table>\n",
       "</div>"
      ],
      "text/plain": [
       "                N           P            K          pH          EC  \\\n",
       "count  878.000000  878.000000   878.000000  878.000000  878.000000   \n",
       "mean   246.842825   14.572437   501.042141    7.510706    0.544077   \n",
       "std     77.370500   21.991113   129.100764    0.464720    0.141563   \n",
       "min      6.000000    2.900000    11.000000    0.900000    0.100000   \n",
       "25%    201.000000    6.800000   412.000000    7.350000    0.430000   \n",
       "50%    257.000000    8.100000   475.000000    7.500000    0.550000   \n",
       "75%    307.000000   10.650000   581.000000    7.630000    0.640000   \n",
       "max    383.000000  125.000000  1560.000000   11.150000    0.950000   \n",
       "\n",
       "               OC           S          Zn          Fe          Cu         Mn  \\\n",
       "count  878.000000  878.000000  878.000000  878.000000  878.000000  878.00000   \n",
       "mean     0.617665    7.525239    0.469419    4.145763    0.951697    8.68836   \n",
       "std      0.843975    4.405285    1.896323    3.107853    0.466295    4.29319   \n",
       "min      0.100000    0.640000    0.070000    0.210000    0.090000    0.11000   \n",
       "25%      0.380000    4.700000    0.280000    2.060000    0.630000    6.23000   \n",
       "50%      0.590000    6.640000    0.360000    3.565000    0.930000    8.36500   \n",
       "75%      0.780000    8.750000    0.470000    6.320000    1.250000   11.48000   \n",
       "max     24.000000   31.000000   42.000000   44.000000    3.020000   31.00000   \n",
       "\n",
       "                B          OM   Fertility  \n",
       "count  878.000000  878.000000  878.000000  \n",
       "mean     0.586139    1.062384    0.587699  \n",
       "std      0.564529    1.451637    0.573798  \n",
       "min      0.060000    0.172000    0.000000  \n",
       "25%      0.270000    0.653600    0.000000  \n",
       "50%      0.400000    1.014800    1.000000  \n",
       "75%      0.610000    1.341600    1.000000  \n",
       "max      2.820000   41.280000    2.000000  "
      ]
     },
     "execution_count": 40,
     "metadata": {},
     "output_type": "execute_result"
    }
   ],
   "source": [
    "data1.describe()"
   ]
  },
  {
   "cell_type": "markdown",
   "metadata": {},
   "source": [
    "## Analyse Supervisée"
   ]
  },
  {
   "cell_type": "markdown",
   "metadata": {},
   "source": [
    "Split Data"
   ]
  },
  {
   "cell_type": "code",
   "execution_count": 41,
   "metadata": {},
   "outputs": [],
   "source": [
    "X = np.array(data1.drop(columns=['Fertility']))\n",
    "y = np.array(data1['Fertility']).astype(int)"
   ]
  },
  {
   "cell_type": "code",
   "execution_count": 42,
   "metadata": {},
   "outputs": [],
   "source": [
    "scaler = MinMaxScaler()\n",
    "# scaler = StandardScaler()\n",
    "X = scaler.fit_transform(X)"
   ]
  },
  {
   "cell_type": "code",
   "execution_count": 43,
   "metadata": {},
   "outputs": [
    {
     "data": {
      "image/png": "[encoded data removed]",
      "text/plain": [
       "<Figure size 576x432 with 1 Axes>"
      ]
     },
     "metadata": {
      "needs_background": "light"
     },
     "output_type": "display_data"
    }
   ],
   "source": [
    "plt.figure(figsize=(8, 6))\n",
    "# Plot data points with true labels\n",
    "plt.scatter(X[:, 0], X[:, 1], c=y, cmap='viridis', edgecolors='k', label='True Labels')\n",
    "plt.title('Scatter Plot of Data with True Labels')\n",
    "plt.xlabel('Feature 1')\n",
    "plt.ylabel('Feature 2')\n",
    "plt.legend()\n",
    "plt.show()"
   ]
  },
  {
   "cell_type": "code",
   "execution_count": 44,
   "metadata": {},
   "outputs": [
    {
     "data": {
      "image/png": "[encoded data removed]",
      "text/plain": [
       "<Figure size 576x432 with 1 Axes>"
      ]
     },
     "metadata": {
      "needs_background": "light"
     },
     "output_type": "display_data"
    }
   ],
   "source": [
    "from sklearn.decomposition import PCA\n",
    "\n",
    "pca = PCA(n_components=2)\n",
    "X_pca = pca.fit_transform(X)\n",
    "\n",
    "# Create a scatter plot\n",
    "plt.figure(figsize=(8, 6))\n",
    "\n",
    "for label in np.unique(y):\n",
    "    indices = y == label\n",
    "    plt.scatter(X_pca[indices, 0], X_pca[indices, 1], label=f'Cluster {label}', edgecolors='k')\n",
    "\n",
    "plt.title('Scatter Plot after PCA')\n",
    "plt.xlabel('Principal Component 1')\n",
    "plt.ylabel('Principal Component 2')\n",
    "plt.legend()\n",
    "plt.show()\n"
   ]
  },
  {
   "cell_type": "code",
   "execution_count": 45,
   "metadata": {},
   "outputs": [],
   "source": [
    "# df = pd.DataFrame(X, columns=[f'Feature {i+1}' for i in range(X.shape[1])])\n",
    "# df['Label'] = y\n",
    "\n",
    "# # Create a pair plot\n",
    "# sns.pairplot(df, hue='Label', palette='viridis')\n",
    "# plt.show()"
   ]
  },
  {
   "cell_type": "code",
   "execution_count": 46,
   "metadata": {},
   "outputs": [],
   "source": [
    "X_train, X_test, y_train, y_test = train_test_split(\n",
    "    X, y, stratify=y, test_size=0.2, random_state=42\n",
    ")"
   ]
  },
  {
   "cell_type": "code",
   "execution_count": 47,
   "metadata": {},
   "outputs": [],
   "source": [
    "def classification_report_custom(y_test,predictions,time):\n",
    "    knn_eval=[]\n",
    "    for c in range(3):\n",
    "        knn_eval.append([\"-\",precision(y_test,predictions,c),recall(y_test,predictions,c),f1_score(y_test,predictions,c),specificity(y_test,predictions,c),(y_test==c).sum(),\"-\"])\n",
    "    \n",
    "    p,r,f,a,s = calculate_metrics(y_test,predictions)\n",
    "    \n",
    "    knn_eval.append([a,p,r,f,s,len(y_test),time])\n",
    "\n",
    "    return pd.DataFrame(knn_eval,columns=[\"Accuracy\",\"Precision\",\"Recall\",\"F1-score\",\"Specificity\",\"Support\",\"Time(s)\"],index=[\"0\",\"1\",\"2\",\"global\"])"
   ]
  },
  {
   "cell_type": "markdown",
   "metadata": {},
   "source": [
    "### KNN Custom"
   ]
  },
  {
   "cell_type": "code",
   "execution_count": 48,
   "metadata": {},
   "outputs": [],
   "source": [
    "knn = KNN(k=9,distance_metric=\"euclidean\")\n",
    "s=time()\n",
    "knn.fit(X_train, y_train)\n",
    "predictions_knn = knn.predict(X_test)\n",
    "f=time()\n",
    "time_knn = f-s"
   ]
  },
  {
   "cell_type": "code",
   "execution_count": 49,
   "metadata": {},
   "outputs": [
    {
     "name": "stderr",
     "output_type": "stream",
     "text": [
      "d:\\M2\\modules\\DATA_MINING\\projet\\datamining\\models\\Metrics.py:28: RuntimeWarning: invalid value encountered in scalar divide\n",
      "  precision = true_positive / (true_positive + false_positive)\n"
     ]
    },
    {
     "data": {
      "text/html": [
       "<div>\n",
       "<style scoped>\n",
       "    .dataframe tbody tr th:only-of-type {\n",
       "        vertical-align: middle;\n",
       "    }\n",
       "\n",
       "    .dataframe tbody tr th {\n",
       "        vertical-align: top;\n",
       "    }\n",
       "\n",
       "    .dataframe thead th {\n",
       "        text-align: right;\n",
       "    }\n",
       "</style>\n",
       "<table border=\"1\" class=\"dataframe\">\n",
       "  <thead>\n",
       "    <tr style=\"text-align: right;\">\n",
       "      <th></th>\n",
       "      <th>Accuracy</th>\n",
       "      <th>Precision</th>\n",
       "      <th>Recall</th>\n",
       "      <th>F1-score</th>\n",
       "      <th>Specificity</th>\n",
       "      <th>Support</th>\n",
       "      <th>Time(s)</th>\n",
       "    </tr>\n",
       "  </thead>\n",
       "  <tbody>\n",
       "    <tr>\n",
       "      <th>0</th>\n",
       "      <td>-</td>\n",
       "      <td>0.904110</td>\n",
       "      <td>0.825000</td>\n",
       "      <td>0.862745</td>\n",
       "      <td>0.921348</td>\n",
       "      <td>80</td>\n",
       "      <td>-</td>\n",
       "    </tr>\n",
       "    <tr>\n",
       "      <th>1</th>\n",
       "      <td>-</td>\n",
       "      <td>0.796117</td>\n",
       "      <td>0.931818</td>\n",
       "      <td>0.858639</td>\n",
       "      <td>0.758621</td>\n",
       "      <td>88</td>\n",
       "      <td>-</td>\n",
       "    </tr>\n",
       "    <tr>\n",
       "      <th>2</th>\n",
       "      <td>-</td>\n",
       "      <td>NaN</td>\n",
       "      <td>0.000000</td>\n",
       "      <td>NaN</td>\n",
       "      <td>1.000000</td>\n",
       "      <td>8</td>\n",
       "      <td>-</td>\n",
       "    </tr>\n",
       "    <tr>\n",
       "      <th>global</th>\n",
       "      <td>0.840909</td>\n",
       "      <td>0.854167</td>\n",
       "      <td>0.931818</td>\n",
       "      <td>0.891304</td>\n",
       "      <td>0.825000</td>\n",
       "      <td>176</td>\n",
       "      <td>0.602888</td>\n",
       "    </tr>\n",
       "  </tbody>\n",
       "</table>\n",
       "</div>"
      ],
      "text/plain": [
       "        Accuracy  Precision    Recall  F1-score  Specificity  Support  \\\n",
       "0              -   0.904110  0.825000  0.862745     0.921348       80   \n",
       "1              -   0.796117  0.931818  0.858639     0.758621       88   \n",
       "2              -        NaN  0.000000       NaN     1.000000        8   \n",
       "global  0.840909   0.854167  0.931818  0.891304     0.825000      176   \n",
       "\n",
       "         Time(s)  \n",
       "0              -  \n",
       "1              -  \n",
       "2              -  \n",
       "global  0.602888  "
      ]
     },
     "execution_count": 49,
     "metadata": {},
     "output_type": "execute_result"
    }
   ],
   "source": [
    "classification_report_custom(y_test,predictions_knn,time_knn)"
   ]
  },
  {
   "cell_type": "code",
   "execution_count": 50,
   "metadata": {},
   "outputs": [
    {
     "data": {
      "image/png": "[encoded data removed]",
      "text/plain": [
       "<Figure size 432x288 with 1 Axes>"
      ]
     },
     "metadata": {
      "needs_background": "light"
     },
     "output_type": "display_data"
    }
   ],
   "source": [
    "sns.heatmap(confusion_matrix(y_test, predictions_knn), annot=True, fmt=\"d\", cmap=\"Blues\", cbar=False,\n",
    "            xticklabels=[\"Predicted 0\", \"Predicted 1\",'Predicted 2'],\n",
    "            yticklabels=[\"Actual 0\", \"Actual 1\",\"Actual 2\"])\n",
    "plt.show()"
   ]
  },
  {
   "cell_type": "markdown",
   "metadata": {},
   "source": [
    "### Decision tree"
   ]
  },
  {
   "cell_type": "code",
   "execution_count": 51,
   "metadata": {},
   "outputs": [],
   "source": [
    "tree = DecisionTree(max_depth=8)\n",
    "s=time()\n",
    "tree.fit(X_train, y_train)\n",
    "predictions_dt = tree.predict(X_test)\n",
    "f=time()\n",
    "time_dt=f-s"
   ]
  },
  {
   "cell_type": "code",
   "execution_count": 52,
   "metadata": {},
   "outputs": [
    {
     "data": {
      "text/html": [
       "<div>\n",
       "<style scoped>\n",
       "    .dataframe tbody tr th:only-of-type {\n",
       "        vertical-align: middle;\n",
       "    }\n",
       "\n",
       "    .dataframe tbody tr th {\n",
       "        vertical-align: top;\n",
       "    }\n",
       "\n",
       "    .dataframe thead th {\n",
       "        text-align: right;\n",
       "    }\n",
       "</style>\n",
       "<table border=\"1\" class=\"dataframe\">\n",
       "  <thead>\n",
       "    <tr style=\"text-align: right;\">\n",
       "      <th></th>\n",
       "      <th>Accuracy</th>\n",
       "      <th>Precision</th>\n",
       "      <th>Recall</th>\n",
       "      <th>F1-score</th>\n",
       "      <th>Specificity</th>\n",
       "      <th>Support</th>\n",
       "      <th>Time(s)</th>\n",
       "    </tr>\n",
       "  </thead>\n",
       "  <tbody>\n",
       "    <tr>\n",
       "      <th>0</th>\n",
       "      <td>-</td>\n",
       "      <td>0.896104</td>\n",
       "      <td>0.862500</td>\n",
       "      <td>0.878981</td>\n",
       "      <td>0.904762</td>\n",
       "      <td>80</td>\n",
       "      <td>-</td>\n",
       "    </tr>\n",
       "    <tr>\n",
       "      <th>1</th>\n",
       "      <td>-</td>\n",
       "      <td>0.824176</td>\n",
       "      <td>0.852273</td>\n",
       "      <td>0.837989</td>\n",
       "      <td>0.813953</td>\n",
       "      <td>88</td>\n",
       "      <td>-</td>\n",
       "    </tr>\n",
       "    <tr>\n",
       "      <th>2</th>\n",
       "      <td>-</td>\n",
       "      <td>0.125000</td>\n",
       "      <td>0.125000</td>\n",
       "      <td>0.125000</td>\n",
       "      <td>0.953642</td>\n",
       "      <td>8</td>\n",
       "      <td>-</td>\n",
       "    </tr>\n",
       "    <tr>\n",
       "      <th>global</th>\n",
       "      <td>0.818182</td>\n",
       "      <td>0.872093</td>\n",
       "      <td>0.925926</td>\n",
       "      <td>0.898204</td>\n",
       "      <td>0.862500</td>\n",
       "      <td>176</td>\n",
       "      <td>3.016044</td>\n",
       "    </tr>\n",
       "  </tbody>\n",
       "</table>\n",
       "</div>"
      ],
      "text/plain": [
       "        Accuracy  Precision    Recall  F1-score  Specificity  Support  \\\n",
       "0              -   0.896104  0.862500  0.878981     0.904762       80   \n",
       "1              -   0.824176  0.852273  0.837989     0.813953       88   \n",
       "2              -   0.125000  0.125000  0.125000     0.953642        8   \n",
       "global  0.818182   0.872093  0.925926  0.898204     0.862500      176   \n",
       "\n",
       "         Time(s)  \n",
       "0              -  \n",
       "1              -  \n",
       "2              -  \n",
       "global  3.016044  "
      ]
     },
     "execution_count": 52,
     "metadata": {},
     "output_type": "execute_result"
    }
   ],
   "source": [
    "classification_report_custom(y_test,predictions_dt,time_dt)"
   ]
  },
  {
   "cell_type": "code",
   "execution_count": 53,
   "metadata": {},
   "outputs": [
    {
     "data": {
      "image/png": "[encoded data removed]",
      "text/plain": [
       "<Figure size 432x288 with 1 Axes>"
      ]
     },
     "metadata": {
      "needs_background": "light"
     },
     "output_type": "display_data"
    }
   ],
   "source": [
    "sns.heatmap(confusion_matrix(y_test, predictions_dt), annot=True, fmt=\"d\", cmap=\"Blues\", cbar=False,\n",
    "            xticklabels=[\"Predicted 0\", \"Predicted 1\",'Predicted 2'],\n",
    "            yticklabels=[\"Actual 0\", \"Actual 1\",\"Actual 2\"])\n",
    "plt.show()"
   ]
  },
  {
   "cell_type": "markdown",
   "metadata": {},
   "source": [
    "### Decision tree sklearn"
   ]
  },
  {
   "cell_type": "markdown",
   "metadata": {},
   "source": [
    "### Random Forest"
   ]
  },
  {
   "cell_type": "code",
   "execution_count": 54,
   "metadata": {},
   "outputs": [],
   "source": [
    "random_forest = RandomForest(n_trees=10, max_depth=5, max_features=None)\n",
    "s=time()\n",
    "random_forest.fit(X_train, y_train)\n",
    "predictions_rf = random_forest.predict(X_test)\n",
    "f=time()\n",
    "time_rf=f-s"
   ]
  },
  {
   "cell_type": "code",
   "execution_count": 55,
   "metadata": {},
   "outputs": [
    {
     "name": "stderr",
     "output_type": "stream",
     "text": [
      "d:\\M2\\modules\\DATA_MINING\\projet\\datamining\\models\\Metrics.py:28: RuntimeWarning: invalid value encountered in scalar divide\n",
      "  precision = true_positive / (true_positive + false_positive)\n"
     ]
    },
    {
     "data": {
      "text/html": [
       "<div>\n",
       "<style scoped>\n",
       "    .dataframe tbody tr th:only-of-type {\n",
       "        vertical-align: middle;\n",
       "    }\n",
       "\n",
       "    .dataframe tbody tr th {\n",
       "        vertical-align: top;\n",
       "    }\n",
       "\n",
       "    .dataframe thead th {\n",
       "        text-align: right;\n",
       "    }\n",
       "</style>\n",
       "<table border=\"1\" class=\"dataframe\">\n",
       "  <thead>\n",
       "    <tr style=\"text-align: right;\">\n",
       "      <th></th>\n",
       "      <th>Accuracy</th>\n",
       "      <th>Precision</th>\n",
       "      <th>Recall</th>\n",
       "      <th>F1-score</th>\n",
       "      <th>Specificity</th>\n",
       "      <th>Support</th>\n",
       "      <th>Time(s)</th>\n",
       "    </tr>\n",
       "  </thead>\n",
       "  <tbody>\n",
       "    <tr>\n",
       "      <th>0</th>\n",
       "      <td>-</td>\n",
       "      <td>0.914634</td>\n",
       "      <td>0.937500</td>\n",
       "      <td>0.925926</td>\n",
       "      <td>0.922222</td>\n",
       "      <td>80</td>\n",
       "      <td>-</td>\n",
       "    </tr>\n",
       "    <tr>\n",
       "      <th>1</th>\n",
       "      <td>-</td>\n",
       "      <td>0.882979</td>\n",
       "      <td>0.943182</td>\n",
       "      <td>0.912088</td>\n",
       "      <td>0.872093</td>\n",
       "      <td>88</td>\n",
       "      <td>-</td>\n",
       "    </tr>\n",
       "    <tr>\n",
       "      <th>2</th>\n",
       "      <td>-</td>\n",
       "      <td>NaN</td>\n",
       "      <td>0.000000</td>\n",
       "      <td>NaN</td>\n",
       "      <td>1.000000</td>\n",
       "      <td>8</td>\n",
       "      <td>-</td>\n",
       "    </tr>\n",
       "    <tr>\n",
       "      <th>global</th>\n",
       "      <td>0.897727</td>\n",
       "      <td>0.943182</td>\n",
       "      <td>0.943182</td>\n",
       "      <td>0.943182</td>\n",
       "      <td>0.937500</td>\n",
       "      <td>176</td>\n",
       "      <td>23.791994</td>\n",
       "    </tr>\n",
       "  </tbody>\n",
       "</table>\n",
       "</div>"
      ],
      "text/plain": [
       "        Accuracy  Precision    Recall  F1-score  Specificity  Support  \\\n",
       "0              -   0.914634  0.937500  0.925926     0.922222       80   \n",
       "1              -   0.882979  0.943182  0.912088     0.872093       88   \n",
       "2              -        NaN  0.000000       NaN     1.000000        8   \n",
       "global  0.897727   0.943182  0.943182  0.943182     0.937500      176   \n",
       "\n",
       "          Time(s)  \n",
       "0               -  \n",
       "1               -  \n",
       "2               -  \n",
       "global  23.791994  "
      ]
     },
     "execution_count": 55,
     "metadata": {},
     "output_type": "execute_result"
    }
   ],
   "source": [
    "classification_report_custom(y_test,predictions_rf,time_rf)"
   ]
  },
  {
   "cell_type": "code",
   "execution_count": 56,
   "metadata": {},
   "outputs": [
    {
     "data": {
      "image/png": "[encoded data removed]",
      "text/plain": [
       "<Figure size 432x288 with 1 Axes>"
      ]
     },
     "metadata": {
      "needs_background": "light"
     },
     "output_type": "display_data"
    }
   ],
   "source": [
    "sns.heatmap(confusion_matrix(y_test, predictions_rf), annot=True, fmt=\"d\", cmap=\"Blues\", cbar=False,\n",
    "            xticklabels=[\"Predicted 0\", \"Predicted 1\",'Predicted 2'],\n",
    "            yticklabels=[\"Actual 0\", \"Actual 1\",\"Actual 2\"])\n",
    "plt.show()"
   ]
  },
  {
   "cell_type": "markdown",
   "metadata": {},
   "source": [
    "## Analyse Non Supervisée"
   ]
  },
  {
   "cell_type": "code",
   "execution_count": 57,
   "metadata": {},
   "outputs": [],
   "source": [
    "def clustering_report(data, labels, centroids):\n",
    "    if len(np.unique(labels)) < 2:\n",
    "        raise ValueError(\"Clustering did not form meaningful clusters.\")\n",
    "    metrics = [\n",
    "        silhouette(data, labels),\n",
    "        calculate_inter_cluster_distance(data, labels),\n",
    "        calculate_intra_cluster_distance(data, labels),\n",
    "        inertia(data, labels, centroids),\n",
    "        davies_bouldin_index(data, labels, centroids)[0][0]\n",
    "    ]\n",
    "    \n",
    "    # Create a DataFrame with a single row and named columns\n",
    "    report_df = pd.DataFrame([metrics], columns=[\"silhouette\", \"inter_cluster\", \"intra_cluster\", \"inertia\", \"davies\"])\n",
    "    \n",
    "    return report_df"
   ]
  },
  {
   "cell_type": "markdown",
   "metadata": {},
   "source": [
    "### Kmeans\n"
   ]
  },
  {
   "cell_type": "markdown",
   "metadata": {},
   "source": [
    "sklearn"
   ]
  },
  {
   "cell_type": "markdown",
   "metadata": {},
   "source": [
    "Custom"
   ]
  },
  {
   "cell_type": "code",
   "execution_count": 58,
   "metadata": {},
   "outputs": [],
   "source": [
    "kmeans = K_Means(k=9,distance_metric=\"euclidean\")\n",
    "kmeans.fit(X)\n",
    "\n",
    "# Get cluster assignments for each data point\n",
    "labels_kmeans = kmeans.predict(X)"
   ]
  },
  {
   "cell_type": "code",
   "execution_count": 59,
   "metadata": {},
   "outputs": [
    {
     "data": {
      "text/html": [
       "<div>\n",
       "<style scoped>\n",
       "    .dataframe tbody tr th:only-of-type {\n",
       "        vertical-align: middle;\n",
       "    }\n",
       "\n",
       "    .dataframe tbody tr th {\n",
       "        vertical-align: top;\n",
       "    }\n",
       "\n",
       "    .dataframe thead th {\n",
       "        text-align: right;\n",
       "    }\n",
       "</style>\n",
       "<table border=\"1\" class=\"dataframe\">\n",
       "  <thead>\n",
       "    <tr style=\"text-align: right;\">\n",
       "      <th></th>\n",
       "      <th>silhouette</th>\n",
       "      <th>inter_cluster</th>\n",
       "      <th>intra_cluster</th>\n",
       "      <th>inertia</th>\n",
       "      <th>davies</th>\n",
       "    </tr>\n",
       "  </thead>\n",
       "  <tbody>\n",
       "    <tr>\n",
       "      <th>0</th>\n",
       "      <td>0.157962</td>\n",
       "      <td>0.48981</td>\n",
       "      <td>0.434576</td>\n",
       "      <td>87.041585</td>\n",
       "      <td>1.620444</td>\n",
       "    </tr>\n",
       "  </tbody>\n",
       "</table>\n",
       "</div>"
      ],
      "text/plain": [
       "   silhouette  inter_cluster  intra_cluster    inertia    davies\n",
       "0    0.157962        0.48981       0.434576  87.041585  1.620444"
      ]
     },
     "execution_count": 59,
     "metadata": {},
     "output_type": "execute_result"
    }
   ],
   "source": [
    "clustering_report(X,labels_kmeans,kmeans.centroids)"
   ]
  },
  {
   "cell_type": "markdown",
   "metadata": {},
   "source": [
    "## DBSCAN"
   ]
  },
  {
   "cell_type": "code",
   "execution_count": 60,
   "metadata": {},
   "outputs": [],
   "source": [
    "def get_dbscan_centroids(X, labels):\n",
    "    unique_labels = np.unique(labels)\n",
    "    centroids = []\n",
    "\n",
    "    for label in unique_labels:\n",
    "        if label == -1:\n",
    "            # Skip noise points\n",
    "            continue\n",
    "\n",
    "        cluster_points = X[labels == label]\n",
    "        centroid = np.mean(cluster_points, axis=0)\n",
    "        centroids.append(centroid)\n",
    "\n",
    "    return np.array(centroids)"
   ]
  },
  {
   "cell_type": "markdown",
   "metadata": {},
   "source": [
    "when you display the clustering report you might encounter an error saying that clustering did not form meanigful clusters "
   ]
  },
  {
   "cell_type": "code",
   "execution_count": 61,
   "metadata": {},
   "outputs": [],
   "source": [
    "dbscan = DBSCAN_custom(eps=1.4, min_samples=10)\n",
    "dbscan.fit(X)\n",
    "\n",
    "dbscan_centroids = get_dbscan_centroids(X,dbscan.labels)"
   ]
  },
  {
   "cell_type": "code",
   "execution_count": 62,
   "metadata": {},
   "outputs": [
    {
     "data": {
      "text/html": [
       "<div>\n",
       "<style scoped>\n",
       "    .dataframe tbody tr th:only-of-type {\n",
       "        vertical-align: middle;\n",
       "    }\n",
       "\n",
       "    .dataframe tbody tr th {\n",
       "        vertical-align: top;\n",
       "    }\n",
       "\n",
       "    .dataframe thead th {\n",
       "        text-align: right;\n",
       "    }\n",
       "</style>\n",
       "<table border=\"1\" class=\"dataframe\">\n",
       "  <thead>\n",
       "    <tr style=\"text-align: right;\">\n",
       "      <th></th>\n",
       "      <th>silhouette</th>\n",
       "      <th>inter_cluster</th>\n",
       "      <th>intra_cluster</th>\n",
       "      <th>inertia</th>\n",
       "      <th>davies</th>\n",
       "    </tr>\n",
       "  </thead>\n",
       "  <tbody>\n",
       "    <tr>\n",
       "      <th>0</th>\n",
       "      <td>0.590017</td>\n",
       "      <td>1.052899</td>\n",
       "      <td>0.621233</td>\n",
       "      <td>2004.495399</td>\n",
       "      <td>1.050576</td>\n",
       "    </tr>\n",
       "  </tbody>\n",
       "</table>\n",
       "</div>"
      ],
      "text/plain": [
       "   silhouette  inter_cluster  intra_cluster      inertia    davies\n",
       "0    0.590017       1.052899       0.621233  2004.495399  1.050576"
      ]
     },
     "execution_count": 62,
     "metadata": {},
     "output_type": "execute_result"
    }
   ],
   "source": [
    "clustering_report(X,dbscan.labels,dbscan_centroids)"
   ]
  }
 ],
 "metadata": {
  "kernelspec": {
   "display_name": "Python 3",
   "language": "python",
   "name": "python3"
  },
  "language_info": {
   "codemirror_mode": {
    "name": "ipython",
    "version": 3
   },
   "file_extension": ".py",
   "mimetype": "text/x-python",
   "name": "python",
   "nbconvert_exporter": "python",
   "pygments_lexer": "ipython3",
   "version": "3.9.1"
  }
 },
 "nbformat": 4,
 "nbformat_minor": 2
}
